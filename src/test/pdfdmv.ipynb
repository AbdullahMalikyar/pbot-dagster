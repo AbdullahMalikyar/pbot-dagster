{
 "cells": [
  {
   "cell_type": "code",
   "execution_count": 2,
   "metadata": {},
   "outputs": [
    {
     "name": "stdout",
     "output_type": "stream",
     "text": [
      "\n"
     ]
    },
    {
     "ename": "TypeError",
     "evalue": "'in <string>' requires string as left operand, not NoneType",
     "output_type": "error",
     "traceback": [
      "\u001b[1;31m---------------------------------------------------------------------------\u001b[0m",
      "\u001b[1;31mTypeError\u001b[0m                                 Traceback (most recent call last)",
      "Cell \u001b[1;32mIn[2], line 50\u001b[0m\n\u001b[0;32m     46\u001b[0m     \u001b[38;5;28mprint\u001b[39m(\u001b[38;5;124mf\u001b[39m\u001b[38;5;124m\"\u001b[39m\u001b[38;5;124mChecked \u001b[39m\u001b[38;5;132;01m{\u001b[39;00m\u001b[38;5;28mlen\u001b[39m(results)\u001b[38;5;132;01m}\u001b[39;00m\u001b[38;5;124m new files in \u001b[39m\u001b[38;5;132;01m{\u001b[39;00mdatetime\u001b[38;5;241m.\u001b[39mnow()\u001b[38;5;250m \u001b[39m\u001b[38;5;241m-\u001b[39m\u001b[38;5;250m \u001b[39mtrace\u001b[38;5;132;01m}\u001b[39;00m\u001b[38;5;124m.\u001b[39m\u001b[38;5;124m\"\u001b[39m)\n\u001b[0;32m     47\u001b[0m     \u001b[38;5;28mprint\u001b[39m(\u001b[38;5;124mf\u001b[39m\u001b[38;5;124m\"\u001b[39m\u001b[38;5;124mChecked \u001b[39m\u001b[38;5;132;01m{\u001b[39;00mresults\u001b[38;5;132;01m}\u001b[39;00m\u001b[38;5;124m\"\u001b[39m)\n\u001b[1;32m---> 50\u001b[0m \u001b[43manalyze_file\u001b[49m\u001b[43m(\u001b[49m\u001b[43m)\u001b[49m\n",
      "Cell \u001b[1;32mIn[2], line 38\u001b[0m, in \u001b[0;36manalyze_file\u001b[1;34m()\u001b[0m\n\u001b[0;32m     36\u001b[0m localfile \u001b[38;5;241m=\u001b[39m localpath \u001b[38;5;241m/\u001b[39m Path(ftpfile)\u001b[38;5;241m.\u001b[39mname\n\u001b[0;32m     37\u001b[0m status \u001b[38;5;241m=\u001b[39m find_violations(localfile)\n\u001b[1;32m---> 38\u001b[0m \u001b[38;5;28;01mif\u001b[39;00m \u001b[43mstatus\u001b[49m\u001b[43m \u001b[49m\u001b[38;5;129;43;01min\u001b[39;49;00m\u001b[43m \u001b[49m\u001b[38;5;124;43m'\u001b[39;49m\u001b[38;5;124;43mPass\u001b[39;49m\u001b[38;5;124;43m'\u001b[39;49m:\n\u001b[0;32m     39\u001b[0m     renamedfile \u001b[38;5;241m=\u001b[39m re\u001b[38;5;241m.\u001b[39msub(match_filename,pass_filename,ftpfile,flags\u001b[38;5;241m=\u001b[39mre\u001b[38;5;241m.\u001b[39mIGNORECASE)    \n\u001b[0;32m     40\u001b[0m     results\u001b[38;5;241m.\u001b[39mappend({\u001b[38;5;124m\"\u001b[39m\u001b[38;5;124mFtpfile\u001b[39m\u001b[38;5;124m\"\u001b[39m: ftpfile, \u001b[38;5;124m\"\u001b[39m\u001b[38;5;124mLocalfile\u001b[39m\u001b[38;5;124m\"\u001b[39m: \u001b[38;5;28mstr\u001b[39m(localfile),\u001b[38;5;124m\"\u001b[39m\u001b[38;5;124mStatus\u001b[39m\u001b[38;5;124m\"\u001b[39m: \u001b[38;5;124m\"\u001b[39m\u001b[38;5;124mPass\u001b[39m\u001b[38;5;124m\"\u001b[39m, \u001b[38;5;124m\"\u001b[39m\u001b[38;5;124mRenamedfile\u001b[39m\u001b[38;5;124m\"\u001b[39m: renamedfile})\n",
      "\u001b[1;31mTypeError\u001b[0m: 'in <string>' requires string as left operand, not NoneType"
     ]
    }
   ],
   "source": [
    "from datetime import datetime\n",
    "import os\n",
    "import pandas as pd\n",
    "import pdfquery\n",
    "import re\n",
    "\n",
    "from pathlib import Path\n",
    "\n",
    "def find_violations(filepath: Path):\n",
    "    pdf = pdfquery.PDFQuery(filepath)\n",
    "    pdf.load()\n",
    "    label = pdf.pq('LTTextLineHorizontal:contains(\"Violations\")') \n",
    "    if (label.attr('x0')) is not None:\n",
    "        left_corner = float(label.attr('x0'))\n",
    "        bottom_corner = float(label.attr('y0'))\n",
    "        check = pdf.pq('LTTextLineHorizontal:in_bbox(\"%s, %s, %s, %s\")' % (left_corner, bottom_corner-30, left_corner+150, bottom_corner)).text()\n",
    "        print(check)\n",
    "    #     if (re.search('Clear', status)):\n",
    "    #         return 'Pass'    \n",
    "    #     else:\n",
    "    #         return 'Fail'\n",
    "    # else:\n",
    "    #     return 'Fail'\n",
    "        return 'test'\n",
    "\n",
    "def analyze_file():    \n",
    "    match_filename = \"_DMV.pdf\"\n",
    "    pass_filename  = match_filename.split('.')[0]+ \"_Pass\" + \".pdf\"\n",
    "    fail_filename  = match_filename.split('.')[0]+ \"_Fail\" + \".pdf\"\n",
    "\n",
    "    results = []\n",
    "    filecount = 0\n",
    "    trace = datetime.now()\n",
    "    localpath = Path(r\"C:\\Projects\\Pdfanalyzer\")\n",
    "    for ftpfile in  os.listdir(localpath):\n",
    "        if ftpfile.endswith(\"_DMV.pdf\"):\n",
    "            localfile = localpath / Path(ftpfile).name\n",
    "            status = find_violations(localfile)\n",
    "\n",
    "\n",
    "\n",
    "analyze_file()"
   ]
  },
  {
   "cell_type": "markdown",
   "metadata": {},
   "source": []
  }
 ],
 "metadata": {
  "kernelspec": {
   "display_name": "Python 3",
   "language": "python",
   "name": "python3"
  },
  "language_info": {
   "codemirror_mode": {
    "name": "ipython",
    "version": 3
   },
   "file_extension": ".py",
   "mimetype": "text/x-python",
   "name": "python",
   "nbconvert_exporter": "python",
   "pygments_lexer": "ipython3",
   "version": "3.10.6"
  }
 },
 "nbformat": 4,
 "nbformat_minor": 2
}
